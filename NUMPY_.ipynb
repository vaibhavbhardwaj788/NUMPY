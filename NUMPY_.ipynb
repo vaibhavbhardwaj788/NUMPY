{
 "cells": [
  {
   "cell_type": "code",
   "execution_count": 1,
   "id": "cc9774e3",
   "metadata": {},
   "outputs": [],
   "source": [
    "import numpy as np\n",
    "\n"
   ]
  },
  {
   "cell_type": "markdown",
   "id": "b16259cf",
   "metadata": {},
   "source": [
    "# CREATING ARRAY\n",
    "\n",
    "\n"
   ]
  },
  {
   "cell_type": "code",
   "execution_count": 2,
   "id": "cbcc1244",
   "metadata": {},
   "outputs": [
    {
     "name": "stdout",
     "output_type": "stream",
     "text": [
      "[1 2 3 4 5 6 7 8]\n"
     ]
    }
   ],
   "source": [
    "array = np.array([1,2,3,4,5,6,7,8])\n",
    "print(array)"
   ]
  },
  {
   "cell_type": "markdown",
   "id": "eeaeefe3",
   "metadata": {},
   "source": [
    "# CREATING MATRIX"
   ]
  },
  {
   "cell_type": "code",
   "execution_count": 3,
   "id": "bc75201a",
   "metadata": {},
   "outputs": [
    {
     "data": {
      "text/plain": [
       "array([[1, 2, 3],\n",
       "       [4, 5, 6],\n",
       "       [7, 8, 9]])"
      ]
     },
     "execution_count": 3,
     "metadata": {},
     "output_type": "execute_result"
    }
   ],
   "source": [
    "matrix = np.array([[1,2,3],[4,5,6],[7,8,9]])\n",
    "matrix"
   ]
  },
  {
   "cell_type": "markdown",
   "id": "4136f2ef",
   "metadata": {},
   "source": [
    "# TRANSPOSING MATRIX"
   ]
  },
  {
   "cell_type": "code",
   "execution_count": 4,
   "id": "8d22ab31",
   "metadata": {},
   "outputs": [
    {
     "data": {
      "text/plain": [
       "array([[1, 4, 7],\n",
       "       [2, 5, 8],\n",
       "       [3, 6, 9]])"
      ]
     },
     "execution_count": 4,
     "metadata": {},
     "output_type": "execute_result"
    }
   ],
   "source": [
    "matrix.T"
   ]
  },
  {
   "cell_type": "markdown",
   "id": "f67359a9",
   "metadata": {},
   "source": [
    "# SQUARE OF NUMBERS"
   ]
  },
  {
   "cell_type": "code",
   "execution_count": 5,
   "id": "6b610a8e",
   "metadata": {},
   "outputs": [
    {
     "data": {
      "text/plain": [
       "5.0"
      ]
     },
     "execution_count": 5,
     "metadata": {},
     "output_type": "execute_result"
    }
   ],
   "source": [
    "#underroot of 25\n",
    "square = np.sqrt(25)\n",
    "square"
   ]
  },
  {
   "cell_type": "code",
   "execution_count": 6,
   "id": "3e74e528",
   "metadata": {},
   "outputs": [
    {
     "data": {
      "text/plain": [
       "25"
      ]
     },
     "execution_count": 6,
     "metadata": {},
     "output_type": "execute_result"
    }
   ],
   "source": [
    "square1 = np.square(5)\n",
    "square1"
   ]
  },
  {
   "cell_type": "markdown",
   "id": "b48f7855",
   "metadata": {},
   "source": [
    "# ARRANGE NUMBERS"
   ]
  },
  {
   "cell_type": "code",
   "execution_count": 7,
   "id": "6457e3b7",
   "metadata": {},
   "outputs": [
    {
     "data": {
      "text/plain": [
       "array([ 1,  2,  3,  4,  5,  6,  7,  8,  9, 10, 11, 12, 13, 14, 15, 16, 17,\n",
       "       18, 19, 20, 21, 22, 23, 24, 25, 26, 27, 28, 29, 30, 31, 32, 33, 34,\n",
       "       35, 36, 37, 38, 39, 40, 41, 42, 43, 44, 45, 46, 47, 48, 49, 50, 51,\n",
       "       52, 53, 54, 55, 56, 57, 58, 59, 60, 61, 62, 63, 64, 65, 66, 67, 68,\n",
       "       69, 70, 71, 72, 73, 74, 75, 76, 77, 78, 79, 80, 81, 82, 83, 84, 85,\n",
       "       86, 87, 88, 89, 90, 91, 92, 93, 94, 95, 96, 97, 98, 99])"
      ]
     },
     "execution_count": 7,
     "metadata": {},
     "output_type": "execute_result"
    }
   ],
   "source": [
    "arrange = np.arange(1,100)\n",
    "arrange"
   ]
  },
  {
   "cell_type": "markdown",
   "id": "8d847a4d",
   "metadata": {},
   "source": [
    "# LINESPACE"
   ]
  },
  {
   "cell_type": "code",
   "execution_count": 8,
   "id": "006eb788",
   "metadata": {},
   "outputs": [
    {
     "data": {
      "text/plain": [
       "array([ 1., 10.])"
      ]
     },
     "execution_count": 8,
     "metadata": {},
     "output_type": "execute_result"
    }
   ],
   "source": [
    "linespace = np.linspace(1,10,2)\n",
    "linespace"
   ]
  },
  {
   "cell_type": "markdown",
   "id": "53690ad7",
   "metadata": {},
   "source": [
    "# RESHAPING"
   ]
  },
  {
   "cell_type": "code",
   "execution_count": 9,
   "id": "580a6b0a",
   "metadata": {},
   "outputs": [
    {
     "data": {
      "text/plain": [
       "array([[1, 2],\n",
       "       [3, 4],\n",
       "       [5, 6],\n",
       "       [7, 8]])"
      ]
     },
     "execution_count": 9,
     "metadata": {},
     "output_type": "execute_result"
    }
   ],
   "source": [
    "#we do reshping of arrays to shape it into matrix form\n",
    "array.reshape(4,2)"
   ]
  },
  {
   "cell_type": "markdown",
   "id": "39e46904",
   "metadata": {},
   "source": [
    "# ZEROS"
   ]
  },
  {
   "cell_type": "code",
   "execution_count": 10,
   "id": "d92593ce",
   "metadata": {},
   "outputs": [
    {
     "data": {
      "text/plain": [
       "array([[0., 0., 0., 0.],\n",
       "       [0., 0., 0., 0.],\n",
       "       [0., 0., 0., 0.],\n",
       "       [0., 0., 0., 0.]])"
      ]
     },
     "execution_count": 10,
     "metadata": {},
     "output_type": "execute_result"
    }
   ],
   "source": [
    "zeros = np.zeros([4,4])\n",
    "zeros"
   ]
  },
  {
   "cell_type": "markdown",
   "id": "83d0d06a",
   "metadata": {},
   "source": [
    "# ONES"
   ]
  },
  {
   "cell_type": "code",
   "execution_count": 11,
   "id": "19b2afa6",
   "metadata": {},
   "outputs": [
    {
     "data": {
      "text/plain": [
       "array([[1., 1., 1., 1., 1.],\n",
       "       [1., 1., 1., 1., 1.],\n",
       "       [1., 1., 1., 1., 1.],\n",
       "       [1., 1., 1., 1., 1.]])"
      ]
     },
     "execution_count": 11,
     "metadata": {},
     "output_type": "execute_result"
    }
   ],
   "source": [
    "ones = np.ones([4,5])\n",
    "ones"
   ]
  },
  {
   "cell_type": "markdown",
   "id": "6c92b871",
   "metadata": {},
   "source": [
    "# IDENTITY MATRIX"
   ]
  },
  {
   "cell_type": "code",
   "execution_count": 12,
   "id": "bbcd1c53",
   "metadata": {},
   "outputs": [
    {
     "data": {
      "text/plain": [
       "array([[1., 0., 0., 0.],\n",
       "       [0., 1., 0., 0.],\n",
       "       [0., 0., 1., 0.],\n",
       "       [0., 0., 0., 1.],\n",
       "       [0., 0., 0., 0.]])"
      ]
     },
     "execution_count": 12,
     "metadata": {},
     "output_type": "execute_result"
    }
   ],
   "source": [
    "ident = np.eye(5,4)\n",
    "ident"
   ]
  },
  {
   "cell_type": "markdown",
   "id": "4f24eaf0",
   "metadata": {},
   "source": [
    "# UNIQUE"
   ]
  },
  {
   "cell_type": "code",
   "execution_count": 13,
   "id": "19c58ba3",
   "metadata": {},
   "outputs": [
    {
     "data": {
      "text/plain": [
       "array(['1', '2', '3', '4', '3', '2', '1', '4', 'john', 'love', 'got',\n",
       "       'love', 'dare'], dtype='<U11')"
      ]
     },
     "execution_count": 13,
     "metadata": {},
     "output_type": "execute_result"
    }
   ],
   "source": [
    "variable = np.array([1,2,3,4,3,2,1,4,\"john\",\"love\",\"got\",\"love\",\"dare\"])\n",
    "variable"
   ]
  },
  {
   "cell_type": "code",
   "execution_count": 14,
   "id": "8045eea8",
   "metadata": {},
   "outputs": [
    {
     "data": {
      "text/plain": [
       "array(['1', '2', '3', '4', 'dare', 'got', 'john', 'love'], dtype='<U11')"
      ]
     },
     "execution_count": 14,
     "metadata": {},
     "output_type": "execute_result"
    }
   ],
   "source": [
    "np.unique(variable)"
   ]
  },
  {
   "cell_type": "markdown",
   "id": "1c0a688c",
   "metadata": {},
   "source": [
    "# Mathematical Operations of 2 Arrays\n"
   ]
  },
  {
   "cell_type": "code",
   "execution_count": 15,
   "id": "8aa82208",
   "metadata": {},
   "outputs": [
    {
     "data": {
      "text/plain": [
       "array([ 5,  7,  9, 11,  7, 13, 11, 16])"
      ]
     },
     "execution_count": 15,
     "metadata": {},
     "output_type": "execute_result"
    }
   ],
   "source": [
    "array2 = np.array([4,5,6,7,2,7,4,8])\n",
    "array3 = array+array2\n",
    "array3"
   ]
  },
  {
   "cell_type": "code",
   "execution_count": 16,
   "id": "f2c03b20",
   "metadata": {},
   "outputs": [
    {
     "data": {
      "text/plain": [
       "array([ 4, 10, 18, 28, 10, 42, 28, 64])"
      ]
     },
     "execution_count": 16,
     "metadata": {},
     "output_type": "execute_result"
    }
   ],
   "source": [
    "array4 = array*array2\n",
    "array4"
   ]
  },
  {
   "cell_type": "code",
   "execution_count": 17,
   "id": "6e4a10fb",
   "metadata": {},
   "outputs": [
    {
     "data": {
      "text/plain": [
       "array([-3, -3, -3, -3,  3, -1,  3,  0])"
      ]
     },
     "execution_count": 17,
     "metadata": {},
     "output_type": "execute_result"
    }
   ],
   "source": [
    "array5 = array-array2\n",
    "array5"
   ]
  },
  {
   "cell_type": "code",
   "execution_count": 18,
   "id": "fbbc57d7",
   "metadata": {},
   "outputs": [
    {
     "data": {
      "text/plain": [
       "array([0.25      , 0.4       , 0.5       , 0.57142857, 2.5       ,\n",
       "       0.85714286, 1.75      , 1.        ])"
      ]
     },
     "execution_count": 18,
     "metadata": {},
     "output_type": "execute_result"
    }
   ],
   "source": [
    "array6 = array/array2\n",
    "array6"
   ]
  },
  {
   "cell_type": "markdown",
   "id": "d73ff0b2",
   "metadata": {},
   "source": [
    "# RANDOM NUMBER"
   ]
  },
  {
   "cell_type": "code",
   "execution_count": 19,
   "id": "25798b0a",
   "metadata": {},
   "outputs": [
    {
     "data": {
      "text/plain": [
       "array([[ 0.91798848,  0.44081444,  2.39563779],\n",
       "       [ 0.77793449,  0.62571248,  0.04019395],\n",
       "       [-0.04507718,  0.44019506, -2.61366573],\n",
       "       [-0.33310022,  1.05139803, -0.40851163]])"
      ]
     },
     "execution_count": 19,
     "metadata": {},
     "output_type": "execute_result"
    }
   ],
   "source": [
    "random = np.random.randn(4,3)\n",
    "random"
   ]
  },
  {
   "cell_type": "code",
   "execution_count": 20,
   "id": "68a25733",
   "metadata": {},
   "outputs": [
    {
     "data": {
      "text/plain": [
       "array([[0.63834882, 0.52307769, 0.19841444],\n",
       "       [0.99949905, 0.33817244, 0.09164267],\n",
       "       [0.31023657, 0.2255899 , 0.53570882],\n",
       "       [0.12925643, 0.59427823, 0.78230258]])"
      ]
     },
     "execution_count": 20,
     "metadata": {},
     "output_type": "execute_result"
    }
   ],
   "source": [
    "random1 = np.random.rand(4,3)\n",
    "random1"
   ]
  },
  {
   "cell_type": "markdown",
   "id": "01cdf590",
   "metadata": {},
   "source": [
    "# RANDOM NUMBERS GENERATION AND SORTING"
   ]
  },
  {
   "cell_type": "code",
   "execution_count": 21,
   "id": "737def54",
   "metadata": {},
   "outputs": [
    {
     "data": {
      "text/plain": [
       "array([12, 10, 19, 16, 11, 18, 10, 15, 18, 17])"
      ]
     },
     "execution_count": 21,
     "metadata": {},
     "output_type": "execute_result"
    }
   ],
   "source": [
    "random_number = np.random.randint(10,20, size=10)\n",
    "random_number"
   ]
  },
  {
   "cell_type": "code",
   "execution_count": 22,
   "id": "4580950f",
   "metadata": {},
   "outputs": [
    {
     "data": {
      "text/plain": [
       "array([10, 10, 11, 12, 15, 16, 17, 18, 18, 19])"
      ]
     },
     "execution_count": 22,
     "metadata": {},
     "output_type": "execute_result"
    }
   ],
   "source": [
    "np.sort(random_number)"
   ]
  },
  {
   "cell_type": "code",
   "execution_count": 23,
   "id": "cc2f935b",
   "metadata": {
    "scrolled": true
   },
   "outputs": [
    {
     "data": {
      "text/plain": [
       "array([[ True, False,  True],\n",
       "       [False,  True, False],\n",
       "       [False,  True, False],\n",
       "       [False,  True, False]])"
      ]
     },
     "execution_count": 23,
     "metadata": {},
     "output_type": "execute_result"
    }
   ],
   "source": [
    "random>random1"
   ]
  },
  {
   "cell_type": "code",
   "execution_count": 24,
   "id": "da4347e4",
   "metadata": {},
   "outputs": [
    {
     "data": {
      "text/plain": [
       "2.3956377866564806"
      ]
     },
     "execution_count": 24,
     "metadata": {},
     "output_type": "execute_result"
    }
   ],
   "source": [
    "np.max(random)"
   ]
  },
  {
   "cell_type": "code",
   "execution_count": 25,
   "id": "81d6fec6",
   "metadata": {},
   "outputs": [
    {
     "data": {
      "text/plain": [
       "-2.61366573146032"
      ]
     },
     "execution_count": 25,
     "metadata": {},
     "output_type": "execute_result"
    }
   ],
   "source": [
    "np.min(random)"
   ]
  },
  {
   "cell_type": "code",
   "execution_count": 26,
   "id": "9f0b6e9e",
   "metadata": {},
   "outputs": [
    {
     "data": {
      "text/plain": [
       "array([[ True, False,  True],\n",
       "       [False,  True, False],\n",
       "       [False,  True, False],\n",
       "       [False,  True, False]])"
      ]
     },
     "execution_count": 26,
     "metadata": {},
     "output_type": "execute_result"
    }
   ],
   "source": [
    "random>random1"
   ]
  },
  {
   "cell_type": "code",
   "execution_count": 27,
   "id": "f9e70bb8",
   "metadata": {},
   "outputs": [
    {
     "name": "stdout",
     "output_type": "stream",
     "text": [
      "[2.39563779 1.05139803]\n"
     ]
    }
   ],
   "source": [
    "print(random[random>1])"
   ]
  },
  {
   "cell_type": "code",
   "execution_count": null,
   "id": "149df58a",
   "metadata": {},
   "outputs": [],
   "source": []
  }
 ],
 "metadata": {
  "kernelspec": {
   "display_name": "Python 3 (ipykernel)",
   "language": "python",
   "name": "python3"
  },
  "language_info": {
   "codemirror_mode": {
    "name": "ipython",
    "version": 3
   },
   "file_extension": ".py",
   "mimetype": "text/x-python",
   "name": "python",
   "nbconvert_exporter": "python",
   "pygments_lexer": "ipython3",
   "version": "3.9.13"
  }
 },
 "nbformat": 4,
 "nbformat_minor": 5
}
